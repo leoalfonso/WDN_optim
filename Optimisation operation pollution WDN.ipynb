{
 "cells": [
  {
   "cell_type": "markdown",
   "metadata": {},
   "source": [
    "<img src='ihe_logo.png' width=\"250\" height=\"300\"></img>\n",
    "\n",
    "<table style=\"width: 100%\">\n",
    "<tr>\n",
    "  <td><center><font size=\"8\">M012-2223T05</font></center></td>\n",
    "</tr>\n",
    "<tr>\n",
    "  <td><center><font size=\"8\">AI for Water Systems - Optimisation</font></center></td>\n",
    "</tr>\n",
    "<tr>\n",
    "   <td><center><font size=\"5\">February 2023</font><center></td>\n",
    "</tr>\n",
    "<tr>  \n",
    "   <td><center><font size=\"5\">Optimisation of Water Distribution Networks with PYMOO and WNTR libraries</font></center></td>\n",
    "</tr>\n",
    "<tr>\n",
    "   <td><center><font size=\"2\">By: Leonardo Alfonso, Associate Professor in Hydroinformatics</font></center></td>\n",
    "</tr>\n",
    "       \n",
    "</table>"
   ]
  },
  {
   "cell_type": "markdown",
   "metadata": {},
   "source": [
    "# Learning objective\n",
    "To apply the concepts of single and multiobjective optimisation on a Water Distribution System problem related to contamination events.\n",
    "\n",
    "# Problem\n",
    "The flow in the water distribution network in Figure 1 can be controlled by operating the valves `P2`, `P6`, `P10`, `P14` and `P18` and also by opening the hydrants `J17` and `J13`. A pollution event is detected at node `J9`. You have to operate the valves and hydrants to flush the contaminant out the network. What interventions do you propose? How many nodes are affected (i.e., contaminated) by your decision, after a simulation of 48h?\n",
    "\n",
    "<img src='network.png' width=\"800\" height=\"800\"></img>"
   ]
  },
  {
   "cell_type": "markdown",
   "metadata": {},
   "source": [
    "# Material\n",
    "- The EPANET file of the system is given (`prb.inp`).\n",
    "- A Comma Separated File (`status.csv`) containing the elements that can be changed and their original status. Its content is the following:\n",
    "\n",
    "<img src='original_element_status.png'></img>\n",
    "\n",
    "Note that:\n",
    "- all the pipes (elements whose ID start with the letter `P`) are originally open (Status = 1)\n",
    "- all the hydrants (elements whose ID start with the letter `J`) are originally closed (Status = 0)\n",
    "\n",
    "# Tools\n",
    "For both, we will install the libraries WNTR and PYMOO, described below.\n",
    "\n",
    "### WNTR\n",
    "The <a href=\"https://wntr.readthedocs.io/en/stable/\">Water Network Tool for Resilience (WNTR) </a> is a Python package designed by Sandia National Laboratories and the US Environmental Protection Agency, to simulate and analyze resilience of water distribution networks. The software includes capability to, among others:\n",
    "\n",
    "- Modify network structure and operations\n",
    "- Add response/repair strategies\n",
    "- Simulate pressure dependent demand and demand-driven hydraulics\n",
    "- Simulate water quality\n",
    "\n",
    "We will use WNTR for:\n",
    "- automatically changing the status of the given elements in the EPANET model (closing and opening pipes and hydrants)\n",
    "- run the model(s)\n",
    "- read the water quality results of the model(s)\n",
    "\n",
    "### PYMOO\n",
    "The <a href=\"https://pymoo.org/index.html\">Multi-objective Optimization in Python PYMOO </a> is a Python library that offers a collection of interfaces, algorithms and visualisatoin tools for optimisation.\n",
    "\n",
    "We will use PYMOO for:\n",
    "- solving the optimisation problem using as a function that runs EPANET\n",
    "- display the optimal network configuration found\n",
    "\n",
    "WNTR and PYMOO are libraries that need to be installed before they can be used. To this end, uncomment the following lines (to be run only one time; after that, these lines can be commented again)"
   ]
  },
  {
   "cell_type": "code",
   "execution_count": 1,
   "metadata": {},
   "outputs": [],
   "source": [
    "# uncomment the following two lines to install the needed libraries in your laptop; This needs to be done only once:\n",
    "\n",
    "# %pip install --user pandas\n",
    "# %pip install --user wntr\n",
    "# %pip install --user pymoo"
   ]
  },
  {
   "cell_type": "markdown",
   "metadata": {},
   "source": [
    ""
   ]
  },
  {
   "cell_type": "code",
   "execution_count": 13,
   "metadata": {},
   "outputs": [],
   "source": [
    "# !conda env create -f environment.yml"
   ]
  },
  {
   "cell_type": "markdown",
   "metadata": {},
   "source": [
    "# Solution\n",
    "The problem of finding the best operational statuses of the elements `P2`, `P6`, `P10`, `P14`, `P18`, `J17` and `J13` could be solved manually by using trial and error in EPANET, although this is not ideal, as it is tedious and time-consuming. Instead, automatic optimisation procedures can be applied. We will solve the problem in two ways, assuming:\n",
    "- Single objective optimisation\n",
    "- Multi objective optimisation\n",
    "\n",
    "We first load standard libraries as follows:"
   ]
  },
  {
   "cell_type": "code",
   "execution_count": 2,
   "metadata": {},
   "outputs": [],
   "source": [
    "import sys\n",
    "import pandas as pd\n",
    "import wntr\n",
    "import numpy as np"
   ]
  },
  {
   "cell_type": "markdown",
   "metadata": {},
   "source": [
    "## Single objective optimisation\n",
    "For SOO we will find the best operational interventions such that <b>minimise the total number of polluted nodes</b>. \n",
    "\n",
    "### Step 1 - create the Objective function as a Python function using WNTR\n",
    "We need a Python function that receives as input:\n",
    "- the desired status of the network `new_status`, \n",
    "- an object containing the EPANET model as defined in WNTR `epanet_model`, and \n",
    "- the original status of the network `elem_status`\n",
    "\n",
    "And returns as output:\n",
    "- the number of polluted nodes after 48h of simulation\n"
   ]
  },
  {
   "cell_type": "code",
   "execution_count": 3,
   "metadata": {},
   "outputs": [],
   "source": [
    "def num_polluted_nodes(new_status, epanet_model, elem_status):  #Function to calculate Objective Functions\n",
    "    # Function that change operational status of selected elements\n",
    "\n",
    "    def set_base_demand(wn, node_id:str, new_base_demand):   \n",
    "        # Function to set the Base Demand of the node node_id, to the value provided in new_base_demand. wn is the EPANET model object created in WNTR.\n",
    "        junction = wn.get_node(node_id)\n",
    "        junction.demand_timeseries_list[0].base_value = new_base_demand\n",
    "        return\n",
    "    \n",
    "    #Loop that makes the changes given in new_status in the EPANET model\n",
    "    for i, e in enumerate(elem_status['Element']):\n",
    "        if e[0] == 'J':   #A hydrant\n",
    "            if new_status[i] == True:\n",
    "                set_base_demand(epanet_model, e, 6*0.001)            # An open hydrant is assumed to demand a discharge of 6 lps\n",
    "            else:\n",
    "                set_base_demand(epanet_model, e, 0.5*0.001)          # A closed hydrant is assumed to demand a 'normal' consumption of 0.5 lps\n",
    "        if e[0] == 'P':   #A valve\n",
    "            if new_status[i] == True:\n",
    "                epanet_model.get_link(e).diameter = 0.162            # All pipes have D=160mm. An open pipe is assumed to keep this diameter.\n",
    "            else:\n",
    "                epanet_model.get_link(e).diameter = 0.000001        # A closed pipe is assumed to be one with a very small diameter.\n",
    "\n",
    "    # Run model\n",
    "    epanet_model.options.hydraulic.demand_model = 'PDD'\n",
    "    sim = wntr.sim.EpanetSimulator(epanet_model)\n",
    "    results = sim.run_sim(version = 2.2)\n",
    "    \n",
    "    # Count number of polluted nodes\n",
    "    q_sim = results.node['quality']\n",
    "    num_pol_nodes = (q_sim.tail(1)>0.02).sum().sum()                # Number of polluted nodes at the end of the simulation, assuming that a node is polluted if q > 0.02 kg/m3\n",
    "    \n",
    "    # uncomment the following line if you want to see the resulting number of polluted nodes in each run:\n",
    "    #print('Number of polluted nodes ' + str(num_pol_nodes)) \n",
    "    \n",
    "    return num_pol_nodes"
   ]
  },
  {
   "cell_type": "markdown",
   "metadata": {},
   "source": [
    "### Step 2 - Build the optimisation problem using the PYMOO library\n",
    "\n",
    "A bounch of libraries must be imported from PYMOO. Note we are using here the <b>GA: Genetic Algorithms</b> optimisation algorithm."
   ]
  },
  {
   "cell_type": "code",
   "execution_count": 4,
   "metadata": {},
   "outputs": [
    {
     "name": "stdout",
     "output_type": "stream",
     "text": [
      "=================================================\n",
      "n_gen  |  n_eval  |     f_avg     |     f_min    \n",
      "=================================================\n",
      "     1 |        5 |  1.860000E+01 |  1.600000E+01\n",
      "     2 |       10 |  1.580000E+01 |  1.500000E+01\n",
      "     3 |       15 |  1.540000E+01 |  1.400000E+01\n",
      "     4 |       20 |  1.440000E+01 |  1.200000E+01\n",
      "     5 |       25 |  1.200000E+01 |  8.0000000000\n",
      "Best solution found: [1 0 0 0 0 1 0]\n",
      "Function value: [8.]\n"
     ]
    }
   ],
   "source": [
    "from pymoo.algorithms.soo.nonconvex.ga import GA\n",
    "from pymoo.operators.crossover.pntx import TwoPointCrossover\n",
    "from pymoo.operators.mutation.bitflip import BitflipMutation\n",
    "from pymoo.operators.sampling.rnd import BinaryRandomSampling\n",
    "from pymoo.problems.functional import FunctionalProblem\n",
    "from pymoo.optimize import minimize\n",
    "\n",
    "#Create the EPANET model object from the EPANET input file:\n",
    "epanet_input_file = 'prb.inp'    # Beware: this file needs to exist in the same location as this notebook!\n",
    "em = wntr.network.WaterNetworkModel(epanet_input_file)\n",
    "\n",
    "#Read the initial status of the pipes and hydrants in the network, from the given text file\n",
    "elem_status = pd.read_csv('status.csv') # Beware: this file needs to exist in the same location as this notebook!\n",
    "\n",
    "# Define objective function\n",
    "obj = [lambda x: num_polluted_nodes(x, em, elem_status)]     #This line calls the function created in Step 1\n",
    "\n",
    "#Define constraints\n",
    "constr_ieq = []\n",
    "const_l = np.zeros(7)\n",
    "const_u = np.ones(7)\n",
    "\n",
    "# Define the problem as requied by PYMOO\n",
    "problem = FunctionalProblem(7,                    # number of decision variables, the seven elements to change in the model\n",
    "                            obj,                   # objectives \n",
    "                            constr_ieq=constr_ieq,  # constraints\n",
    "                            xl=const_l,             # lower bound for constraints (0)\n",
    "                            xu=const_u              # upper bound for constraints (1)\n",
    "                           )\n",
    "\n",
    "                            # Setup the algorithm\n",
    "algorithm = GA(\n",
    "    pop_size=5,\n",
    "    sampling=BinaryRandomSampling(),\n",
    "    crossover=TwoPointCrossover(),\n",
    "    mutation=BitflipMutation(),\n",
    "    eliminate_duplicates=True)\n",
    "\n",
    "res = minimize(problem,\n",
    "               algorithm,\n",
    "               ('n_gen', 5),\n",
    "               verbose=True)\n",
    "\n",
    "print(\"Best solution found: %s\" % res.X.astype(int))\n",
    "print(\"Function value: %s\" % res.F)"
   ]
  },
  {
   "cell_type": "markdown",
   "metadata": {},
   "source": [
    "### Step 3 - Interpret the results\n",
    "You got the optimisation reults as printed above. What do you need to tell the operator what to do in the network?"
   ]
  },
  {
   "cell_type": "markdown",
   "metadata": {},
   "source": [
    "## Multi-objective optimisation\n",
    " \n",
    "Now suppose that we do not have the resources to phisically perform too many operations in the network (due to limited crew, for example), so we need to minimise these operations as well. This means we now have two objective functions:\n",
    " \n",
    "- minimise the number of polluted nodes\n",
    "- minimise the number of operational interventions\n",
    " \n",
    "Fortunately, we already have a code to evaluate the first objective. We need now another function to evaluate the second one.\n",
    " \n",
    "### Step 1 - Create a second Python function to evaluate the second Objective function\n",
    " \n",
    "This function simply compares the original status with the new status, and adds one if something is different.\n",
    " \n",
    "For example, if the initial status is\n",
    "`[1 1 1 1 1 0 0]` \n",
    " \n",
    "and the new suggested status is:\n",
    "`[1 1 1 1 0 1 0]` \n",
    " \n",
    "Then two changes were proposed, namely close `P18` and open `J17`. This is what the following function, `num_operations`, is doing: "
   ]
  },
  {
   "cell_type": "code",
   "execution_count": 5,
   "metadata": {},
   "outputs": [],
   "source": [
    "def num_operations(new_status, elem_status):\n",
    "    \n",
    "    # Count number of operational changes in the netwrok (Function 2)\n",
    "    elem_status['Status'] = elem_status['Status'].astype('bool')\n",
    "    original_status = elem_status['Status'].to_numpy() * 1\n",
    "    \n",
    "    op = sum([1 for x, y in zip(original_status, new_status) if x != y])\n",
    "\n",
    "    # uncomment the following line if you want to see the resulting number of polluted nodes in each run:\n",
    "    # print('Number of operations: ' + str(op))\n",
    "    return op\n",
    "    "
   ]
  },
  {
   "cell_type": "markdown",
   "metadata": {},
   "source": [
    "### Step 2 - Build the multi-optimisation problem using the PYMOO library\n",
    "\n",
    "Again, another bounch of libraries must be imported from PYMOO. Now we are using the <b>NSGA2 Non-Sorted Genetic Algorithm</b> optimisation algorithm.\n",
    "What differences can you spot from the Single Objective Optimisation used above?"
   ]
  },
  {
   "cell_type": "code",
   "execution_count": 6,
   "metadata": {},
   "outputs": [
    {
     "name": "stdout",
     "output_type": "stream",
     "text": [
      "==========================================================\n",
      "n_gen  |  n_eval  | n_nds  |      eps      |   indicator  \n",
      "==========================================================\n",
      "     1 |       10 |      2 |             - |             -\n",
      "     2 |       20 |      2 |  1.0000000000 |         nadir\n",
      "     3 |       30 |      3 |  0.6666666667 |         ideal\n",
      "     4 |       40 |      7 |  0.000000E+00 |             f\n",
      "     5 |       50 |     10 |  0.000000E+00 |             f\n"
     ]
    }
   ],
   "source": [
    "from pymoo.optimize import minimize\n",
    "from pymoo.problems.functional import FunctionalProblem\n",
    "from pymoo.algorithms.moo.nsga2 import NSGA2\n",
    "from pymoo.operators.selection.rnd import RandomSelection\n",
    "from pymoo.operators.crossover.hux import HalfUniformCrossover\n",
    "from pymoo.operators.sampling.rnd import BinaryRandomSampling\n",
    "\n",
    "from pymoo.factory import get_crossover, get_mutation, get_sampling\n",
    "from pymoo.visualization.scatter import Scatter\n",
    "\n",
    "#Create the EPANET model object from the EPANET input file:\n",
    "epanet_input_file = 'prb.inp'    # Beware: this file needs to exist in the same location as this notebook!\n",
    "em = wntr.network.WaterNetworkModel(epanet_input_file)\n",
    "\n",
    "#Read the initial status of the pipes and hydrants in the network, from the given text file\n",
    "elem_status = pd.read_csv('status.csv') # Beware: this file needs to exist in the same location as this notebook!\n",
    "\n",
    "#Definition of objective functions in the way PYMOO library needs them. Note that x is the decision variables (suggested operational changes to do in the network)\n",
    "objs = [lambda x: num_operations(x, elem_status),           # Evaluate first objective: counting the number of operational changes of the network with respect to original status.\n",
    "        lambda x: num_polluted_nodes(x, em, elem_status)]   # Evaluate second objective: counting the number of nodes that get polluted with certain operational changes.\n",
    "\n",
    "#Definition of constraints for the decision variables x\n",
    "constr_ieq = []\n",
    "const_l = np.zeros(7)\n",
    "const_u = np.ones(7)\n",
    "\n",
    "#Definition of problem for optimisation, as required by the PYMOO library\n",
    "problem = FunctionalProblem(7,                      # # number of decision variables, the seven elements to change in the model\n",
    "                            objs,                   # objectives \n",
    "                            constr_ieq=constr_ieq,  # constraints\n",
    "                            xl=const_l,             # lower bound for constraints (0)\n",
    "                            xu=const_u              # upper bound for constraints (1)\n",
    "                            )\n",
    "\n",
    "#Non-Sorted Genetic Algorithm NSGA2 is a very popular multi-objective optimisation algorithm\n",
    "algorithm = NSGA2(pop_size=10,                         # Number of populations\n",
    "                 sampling=BinaryRandomSampling())      # our variables are binary (True = open, False = closed)\n",
    "\n",
    "res = minimize(problem,            # The problem is about minimising both objective functions\n",
    "               algorithm,          # Using NSGA\n",
    "               ('n_gen', 5),       # With 10 generations\n",
    "               verbose=True)       # To see intermediate results, related to the optimisation algorithm. "
   ]
  },
  {
   "cell_type": "markdown",
   "metadata": {},
   "source": [
    "If verbose is set to True, the following is displayed:\n",
    "- n_gen: current generation\n",
    "- n_eval: number of evaluations (typically n_gen * pop_size)\n",
    "- n_nds: non-dominated solutions.\n",
    "- eps and indicator: metrics which represents the movement of solutions in the objective space\n",
    "See more details at https://pymoo.org/interface/display.html?highlight=verbose. See also https://www.egr.msu.edu/~kdeb/papers/c2020003.pdf for details about 'indicator'"
   ]
  },
  {
   "cell_type": "code",
   "execution_count": 7,
   "metadata": {
    "scrolled": true
   },
   "outputs": [
    {
     "name": "stdout",
     "output_type": "stream",
     "text": [
      "Best solution found: \n",
      "X = [[1. 0. 1. 1. 1. 1. 0.]\n",
      " [1. 1. 0. 0. 0. 1. 0.]\n",
      " [1. 0. 0. 1. 0. 1. 0.]\n",
      " [1. 1. 0. 0. 0. 1. 0.]\n",
      " [1. 0. 1. 1. 1. 1. 0.]\n",
      " [1. 1. 1. 0. 0. 1. 0.]\n",
      " [1. 0. 1. 0. 0. 1. 0.]\n",
      " [1. 0. 0. 1. 1. 1. 0.]\n",
      " [1. 1. 1. 0. 0. 1. 0.]\n",
      " [1. 0. 0. 1. 1. 1. 0.]]\n",
      "F = [[ 2. 14.]\n",
      " [ 5.  8.]\n",
      " [ 4. 12.]\n",
      " [ 5.  8.]\n",
      " [ 5.  8.]\n",
      " [ 5.  8.]\n",
      " [ 5.  8.]\n",
      " [ 4. 12.]\n",
      " [ 5.  8.]\n",
      " [ 4. 12.]]\n"
     ]
    }
   ],
   "source": [
    "print(\"Best solution found: \\nX = %s\\nF = %s\" % (res.X.round(), res.F))"
   ]
  },
  {
   "cell_type": "code",
   "execution_count": 8,
   "metadata": {},
   "outputs": [
    {
     "data": {
      "text/plain": [
       "<pymoo.visualization.scatter.Scatter at 0x26f7d42d6c8>"
      ]
     },
     "execution_count": 8,
     "metadata": {},
     "output_type": "execute_result"
    },
    {
     "data": {
      "image/png": "[encoded data removed]",
      "text/plain": [
       "<Figure size 576x432 with 1 Axes>"
      ]
     },
     "metadata": {
      "needs_background": "light"
     },
     "output_type": "display_data"
    }
   ],
   "source": [
    "Scatter(title='Result of multi-objective optimisation using NSGA', labels=['Number of operational interventions', 'Number of polluted nodes']).add(res.F).show()\n"
   ]
  },
  {
   "cell_type": "markdown",
   "metadata": {},
   "source": [
    "### Step 3 - Interpret the results\n",
    "You got the optimisation reults as printed above. What do you need to tell the operator what to do in the network?\n",
    "\n",
    "Question: What about the 'Do nothing' option?"
   ]
  },
  {
   "cell_type": "code",
   "execution_count": 9,
   "metadata": {},
   "outputs": [
    {
     "name": "stdout",
     "output_type": "stream",
     "text": [
      "18\n"
     ]
    }
   ],
   "source": [
    "# Write here a code to evaluate the `Do Nothing` option (so F2 = 0 operational interventions):\n",
    "\n",
    "npd = num_polluted_nodes([1,1,1,1,1,0,0], em, elem_status)\n",
    "\n",
    "print(npd)"
   ]
  }
 ],
 "metadata": {
  "kernelspec": {
   "display_name": "Python 3",
   "language": "python",
   "name": "python3"
  },
  "language_info": {
   "codemirror_mode": {
    "name": "ipython",
    "version": 3
   },
   "file_extension": ".py",
   "mimetype": "text/x-python",
   "name": "python",
   "nbconvert_exporter": "python",
   "pygments_lexer": "ipython3",
   "version": "3.7.4"
  }
 },
 "nbformat": 4,
 "nbformat_minor": 5
}
